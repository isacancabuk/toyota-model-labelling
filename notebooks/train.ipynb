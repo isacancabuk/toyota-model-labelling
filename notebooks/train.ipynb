{
  "nbformat": 4,
  "nbformat_minor": 0,
  "metadata": {
    "colab": {
      "provenance": [],
      "authorship_tag": "ABX9TyPYNHPY2Ao5sF0XCNSqJoh6"
    },
    "kernelspec": {
      "name": "python3",
      "display_name": "Python 3"
    },
    "language_info": {
      "name": "python"
    }
  },
  "cells": [
    {
      "cell_type": "code",
      "execution_count": 7,
      "metadata": {
        "id": "3ESFOrcn3KzZ",
        "collapsed": true,
        "colab": {
          "base_uri": "https://localhost:8080/"
        },
        "outputId": "201cb2d8-7dfa-46b9-d2f9-f062e9edf46e"
      },
      "outputs": [
        {
          "output_type": "stream",
          "name": "stderr",
          "text": [
            "fatal: destination path '/content/toyota-model-labelling' already exists and is not an empty directory.\n"
          ]
        }
      ],
      "source": [
        "%%bash\n",
        "# Clone the GitHub repo\n",
        "git clone https://github.com/isacancabuk/toyota-model-labelling.git /content/toyota-model-labelling\n",
        "cd /content/toyota-model-labelling\n",
        "\n",
        "# Install Python packages from your cleaned requirements.txt\n",
        "pip install -q -r requirements.txt"
      ]
    },
    {
      "cell_type": "code",
      "source": [
        "# Cell 2: one-time imports and dataset inspection\n",
        "import os\n",
        "from pathlib import Path\n",
        "\n",
        "REPO = Path('/content/toyota-model-labelling')\n",
        "DATA_4R = REPO / 'data' / '4runner'\n",
        "\n",
        "if not DATA_4R.exists():\n",
        "    raise FileNotFoundError(f\"Folder not found: {DATA_4R}\")\n",
        "\n",
        "files = list(DATA_4R.glob('*.jpg'))\n",
        "print(\"Total 4Runner images:\", len(files))\n",
        "print(\"First 5 filenames:\", [f.name for f in files[:5]])"
      ],
      "metadata": {
        "colab": {
          "base_uri": "https://localhost:8080/"
        },
        "id": "AxBuJ8GP0vIv",
        "outputId": "8e1b4bf4-fdd1-4572-835e-6ec488cc974a"
      },
      "execution_count": 8,
      "outputs": [
        {
          "output_type": "stream",
          "name": "stdout",
          "text": [
            "Total 4Runner images: 946\n",
            "First 5 filenames: ['4runner-1586451608.jpg', '4runner-1614916643.jpg', '4runner-468347014.jpg', '4runner-1768807010.jpg', '4runner-959180871.jpg']\n"
          ]
        }
      ]
    },
    {
      "cell_type": "code",
      "source": [
        "# Cell 3: split the 4Runner images into train/val (80/20)\n",
        "import random, shutil\n",
        "\n",
        "SRC = REPO / 'data' / '4runner'\n",
        "TRAIN = REPO / 'data' / '4runner_split' / 'train'\n",
        "VAL   = REPO / 'data' / '4runner_split' / 'val'\n",
        "\n",
        "for d in (TRAIN, VAL):\n",
        "    d.mkdir(parents=True, exist_ok=True)\n",
        "\n",
        "imgs = list(SRC.glob('*.jpg'))\n",
        "random.shuffle(imgs)\n",
        "cut = int(0.8 * len(imgs))\n",
        "\n",
        "for i, img in enumerate(imgs):\n",
        "    tgt = TRAIN if i < cut else VAL\n",
        "    shutil.copy(img, tgt / img.name)\n",
        "\n",
        "print(f\"Train count: {len(list(TRAIN.glob('*')))}\")\n",
        "print(f\" Val count: {len(list(VAL.glob('*')))}\")"
      ],
      "metadata": {
        "colab": {
          "base_uri": "https://localhost:8080/"
        },
        "id": "dykAHC6F0xHj",
        "outputId": "dba7ae13-6d16-4fb1-ce77-a520e273e0c7"
      },
      "execution_count": 9,
      "outputs": [
        {
          "output_type": "stream",
          "name": "stdout",
          "text": [
            "Train count: 756\n",
            " Val count: 190\n"
          ]
        }
      ]
    },
    {
      "cell_type": "code",
      "source": [
        "%%bash\n",
        "# Cell 4: get YOLOv5 code & install its requirements\n",
        "git clone https://github.com/ultralytics/yolov5.git /content/yolov5\n",
        "cd /content/yolov5\n",
        "pip install -q -r requirements.txt"
      ],
      "metadata": {
        "colab": {
          "base_uri": "https://localhost:8080/"
        },
        "id": "gGznXMHG00r6",
        "outputId": "477531ea-b784-4ce4-e907-037cc3a6d5a6"
      },
      "execution_count": 10,
      "outputs": [
        {
          "output_type": "stream",
          "name": "stderr",
          "text": [
            "Cloning into '/content/yolov5'...\n"
          ]
        }
      ]
    },
    {
      "cell_type": "code",
      "source": [
        "import warnings\n",
        "warnings.filterwarnings('ignore', category=FutureWarning)\n",
        "\n",
        "# Cell 5: baseline recall for 'car' on your Val set (fixed conf handling)\n",
        "import torch\n",
        "from pathlib import Path\n",
        "\n",
        "# 1) Load the COCO-pretrained YOLOv5s\n",
        "model = torch.hub.load('ultralytics/yolov5', 'yolov5s', pretrained=True)\n",
        "\n",
        "# 2) Set minimum confidence once\n",
        "model.conf = 0.25  # equivalent to passing conf_thres=0.25 each call\n",
        "\n",
        "CAR_ID = 2\n",
        "val_images = list((REPO / 'data' / '4runner_split' / 'val').glob('*.jpg'))\n",
        "total = len(val_images)\n",
        "detected = 0\n",
        "\n",
        "# 3) Loop and count\n",
        "for img in val_images:\n",
        "    results = model(str(img))         # now uses model.conf threshold\n",
        "    df = results.pandas().xyxy[0]     # DataFrame of all detections\n",
        "    if (df['class'] == CAR_ID).any():\n",
        "        detected += 1\n",
        "\n",
        "# 4) Report recall\n",
        "print(f\"Detected in {detected}/{total} images → Recall: {detected/total:.2%}\")"
      ],
      "metadata": {
        "colab": {
          "base_uri": "https://localhost:8080/"
        },
        "id": "RtmFR8yQ01Tz",
        "outputId": "0fe65f91-846b-42f0-e9ba-612c2d2fcd67",
        "collapsed": true
      },
      "execution_count": 16,
      "outputs": [
        {
          "output_type": "stream",
          "name": "stderr",
          "text": [
            "Using cache found in /root/.cache/torch/hub/ultralytics_yolov5_master\n",
            "YOLOv5 🚀 2025-5-12 Python-3.11.12 torch-2.6.0+cu124 CPU\n",
            "\n",
            "Fusing layers... \n",
            "YOLOv5s summary: 213 layers, 7225885 parameters, 0 gradients, 16.4 GFLOPs\n",
            "Adding AutoShape... \n"
          ]
        },
        {
          "output_type": "stream",
          "name": "stdout",
          "text": [
            "Detected in 101/190 images → Recall: 53.16%\n"
          ]
        }
      ]
    },
    {
      "cell_type": "code",
      "source": [
        "%%bash\n",
        "# Search every folder under /content for 4runner.yaml\n",
        "echo \"Searching for 4runner.yaml...\"\n",
        "find /content -type f -name 4runner.yaml"
      ],
      "metadata": {
        "id": "L0rWPiSGTv3h",
        "outputId": "9d05f2bf-d487-43f1-938d-3e84a916903a",
        "colab": {
          "base_uri": "https://localhost:8080/"
        }
      },
      "execution_count": 20,
      "outputs": [
        {
          "output_type": "stream",
          "name": "stdout",
          "text": [
            "Searching for 4runner.yaml...\n",
            "/content/toyota-model-labelling/data/4runner.yaml\n"
          ]
        }
      ]
    },
    {
      "cell_type": "code",
      "source": [
        "%%bash\n",
        "# Make sure the target data/ folder exists\n",
        "mkdir -p /content/toyota-model-labelling/data\n",
        "\n",
        "# Copy the YAML into the place YOLO expects\n",
        "cp \"/content/toyota-model-labelling/data/4runner.yaml\" /content/toyota-model-labelling/data/4runner.yaml\n",
        "\n",
        "# Verify it’s now in the right spot\n",
        "ls -l /content/toyota-model-labelling/data/4runner.yaml"
      ],
      "metadata": {
        "id": "EJAEQwIZT-A7",
        "outputId": "e7bbf158-6b16-4c99-a699-763205645eeb",
        "colab": {
          "base_uri": "https://localhost:8080/"
        }
      },
      "execution_count": 22,
      "outputs": [
        {
          "output_type": "stream",
          "name": "stdout",
          "text": [
            "-rw-r--r-- 1 root root 437 May 12 21:00 /content/toyota-model-labelling/data/4runner.yaml\n"
          ]
        },
        {
          "output_type": "stream",
          "name": "stderr",
          "text": [
            "cp: '/content/toyota-model-labelling/data/4runner.yaml' and '/content/toyota-model-labelling/data/4runner.yaml' are the same file\n"
          ]
        }
      ]
    },
    {
      "cell_type": "code",
      "source": [
        "%%bash\n",
        "cat > /content/toyota-model-labelling/data/4runner_abs.yaml << 'EOF'\n",
        "train: /content/toyota-model-labelling/data/4runner_split/train\n",
        "val:   /content/toyota-model-labelling/data/4runner_split/val\n",
        "\n",
        "nc: 1\n",
        "names: ['4runner']\n",
        "EOF"
      ],
      "metadata": {
        "id": "0tnjGw-UbZ28"
      },
      "execution_count": 24,
      "outputs": []
    },
    {
      "cell_type": "code",
      "source": [
        "%%bash\n",
        "export WANDB_MODE=disabled\n",
        "cd /content/yolov5\n",
        "\n",
        "python train.py \\\n",
        "  --img 640 \\\n",
        "  --batch 8 \\\n",
        "  --epochs 50 \\\n",
        "  --data /content/toyota-model-labelling/data/4runner_abs.yaml \\\n",
        "  --weights yolov5s.pt \\\n",
        "  --name 4runner_finetune \\\n",
        "  --cache"
      ],
      "metadata": {
        "id": "3J3rRdvs03FU",
        "outputId": "8b2c4bb0-79ce-4a98-a979-724db3d41e59",
        "colab": {
          "base_uri": "https://localhost:8080/",
          "height": 1000
        }
      },
      "execution_count": 25,
      "outputs": [
        {
          "output_type": "stream",
          "name": "stderr",
          "text": [
            "\u001b[34m\u001b[1mwandb\u001b[0m: WARNING ⚠️ wandb is deprecated and will be removed in a future release. See supported integrations at https://github.com/ultralytics/yolov5#integrations.\n",
            "2025-05-12 21:37:07.339511: E external/local_xla/xla/stream_executor/cuda/cuda_fft.cc:477] Unable to register cuFFT factory: Attempting to register factory for plugin cuFFT when one has already been registered\n",
            "WARNING: All log messages before absl::InitializeLog() is called are written to STDERR\n",
            "E0000 00:00:1747085827.374276   23617 cuda_dnn.cc:8310] Unable to register cuDNN factory: Attempting to register factory for plugin cuDNN when one has already been registered\n",
            "E0000 00:00:1747085827.385084   23617 cuda_blas.cc:1418] Unable to register cuBLAS factory: Attempting to register factory for plugin cuBLAS when one has already been registered\n",
            "\u001b[34m\u001b[1mtrain: \u001b[0mweights=yolov5s.pt, cfg=, data=/content/toyota-model-labelling/data/4runner_abs.yaml, hyp=data/hyps/hyp.scratch-low.yaml, epochs=50, batch_size=8, imgsz=640, rect=False, resume=False, nosave=False, noval=False, noautoanchor=False, noplots=False, evolve=None, evolve_population=data/hyps, resume_evolve=None, bucket=, cache=ram, image_weights=False, device=, multi_scale=False, single_cls=False, optimizer=SGD, sync_bn=False, workers=8, project=runs/train, name=4runner_finetune, exist_ok=False, quad=False, cos_lr=False, label_smoothing=0.0, patience=100, freeze=[0], save_period=-1, seed=0, local_rank=-1, entity=None, upload_dataset=False, bbox_interval=-1, artifact_alias=latest, ndjson_console=False, ndjson_file=False\n",
            "\u001b[34m\u001b[1mgithub: \u001b[0mup to date with https://github.com/ultralytics/yolov5 ✅\n",
            "YOLOv5 🚀 v7.0-418-ga493afe1 Python-3.11.12 torch-2.6.0+cu124 CPU\n",
            "\n",
            "\u001b[34m\u001b[1mhyperparameters: \u001b[0mlr0=0.01, lrf=0.01, momentum=0.937, weight_decay=0.0005, warmup_epochs=3.0, warmup_momentum=0.8, warmup_bias_lr=0.1, box=0.05, cls=0.5, cls_pw=1.0, obj=1.0, obj_pw=1.0, iou_t=0.2, anchor_t=4.0, fl_gamma=0.0, hsv_h=0.015, hsv_s=0.7, hsv_v=0.4, degrees=0.0, translate=0.1, scale=0.5, shear=0.0, perspective=0.0, flipud=0.0, fliplr=0.5, mosaic=1.0, mixup=0.0, copy_paste=0.0\n",
            "\u001b[34m\u001b[1mComet: \u001b[0mrun 'pip install comet_ml' to automatically track and visualize YOLOv5 🚀 runs in Comet\n",
            "\u001b[34m\u001b[1mTensorBoard: \u001b[0mStart with 'tensorboard --logdir runs/train', view at http://localhost:6006/\n",
            "Overriding model.yaml nc=80 with nc=1\n",
            "\n",
            "                 from  n    params  module                                  arguments                     \n",
            "  0                -1  1      3520  models.common.Conv                      [3, 32, 6, 2, 2]              \n",
            "  1                -1  1     18560  models.common.Conv                      [32, 64, 3, 2]                \n",
            "  2                -1  1     18816  models.common.C3                        [64, 64, 1]                   \n",
            "  3                -1  1     73984  models.common.Conv                      [64, 128, 3, 2]               \n",
            "  4                -1  2    115712  models.common.C3                        [128, 128, 2]                 \n",
            "  5                -1  1    295424  models.common.Conv                      [128, 256, 3, 2]              \n",
            "  6                -1  3    625152  models.common.C3                        [256, 256, 3]                 \n",
            "  7                -1  1   1180672  models.common.Conv                      [256, 512, 3, 2]              \n",
            "  8                -1  1   1182720  models.common.C3                        [512, 512, 1]                 \n",
            "  9                -1  1    656896  models.common.SPPF                      [512, 512, 5]                 \n",
            " 10                -1  1    131584  models.common.Conv                      [512, 256, 1, 1]              \n",
            " 11                -1  1         0  torch.nn.modules.upsampling.Upsample    [None, 2, 'nearest']          \n",
            " 12           [-1, 6]  1         0  models.common.Concat                    [1]                           \n",
            " 13                -1  1    361984  models.common.C3                        [512, 256, 1, False]          \n",
            " 14                -1  1     33024  models.common.Conv                      [256, 128, 1, 1]              \n",
            " 15                -1  1         0  torch.nn.modules.upsampling.Upsample    [None, 2, 'nearest']          \n",
            " 16           [-1, 4]  1         0  models.common.Concat                    [1]                           \n",
            " 17                -1  1     90880  models.common.C3                        [256, 128, 1, False]          \n",
            " 18                -1  1    147712  models.common.Conv                      [128, 128, 3, 2]              \n",
            " 19          [-1, 14]  1         0  models.common.Concat                    [1]                           \n",
            " 20                -1  1    296448  models.common.C3                        [256, 256, 1, False]          \n",
            " 21                -1  1    590336  models.common.Conv                      [256, 256, 3, 2]              \n",
            " 22          [-1, 10]  1         0  models.common.Concat                    [1]                           \n",
            " 23                -1  1   1182720  models.common.C3                        [512, 512, 1, False]          \n",
            " 24      [17, 20, 23]  1     16182  models.yolo.Detect                      [1, [[10, 13, 16, 30, 33, 23], [30, 61, 62, 45, 59, 119], [116, 90, 156, 198, 373, 326]], [128, 256, 512]]\n",
            "Model summary: 214 layers, 7022326 parameters, 7022326 gradients, 15.9 GFLOPs\n",
            "\n",
            "Transferred 343/349 items from yolov5s.pt\n",
            "\u001b[34m\u001b[1moptimizer:\u001b[0m SGD(lr=0.01) with parameter groups 57 weight(decay=0.0), 60 weight(decay=0.0005), 60 bias\n",
            "\u001b[34m\u001b[1malbumentations: \u001b[0m1 validation error for InitSchema\n",
            "size\n",
            "  Field required [type=missing, input_value={'scale': (0.8, 1.0), 'ra...'mask_interpolation': 0}, input_type=dict]\n",
            "    For further information visit https://errors.pydantic.dev/2.11/v/missing\n",
            "\r\u001b[34m\u001b[1mtrain: \u001b[0mScanning /content/toyota-model-labelling/data/4runner_split/train...:   0%|          | 0/756 [00:00<?, ?it/s]\r\u001b[34m\u001b[1mtrain: \u001b[0mScanning /content/toyota-model-labelling/data/4runner_split/train... 0 images, 25 backgrounds, 0 corrupt:   3%|▎         | 25/756 [00:00<00:02, 247.27it/s]\r\u001b[34m\u001b[1mtrain: \u001b[0mScanning /content/toyota-model-labelling/data/4runner_split/train... 0 images, 67 backgrounds, 0 corrupt:   9%|▉         | 67/756 [00:00<00:01, 344.95it/s]\r\u001b[34m\u001b[1mtrain: \u001b[0mScanning /content/toyota-model-labelling/data/4runner_split/train... 0 images, 102 backgrounds, 0 corrupt:  13%|█▎        | 102/756 [00:00<00:01, 333.11it/s]\r\u001b[34m\u001b[1mtrain: \u001b[0mScanning /content/toyota-model-labelling/data/4runner_split/train... 0 images, 152 backgrounds, 0 corrupt:  20%|██        | 152/756 [00:00<00:01, 395.96it/s]\r\u001b[34m\u001b[1mtrain: \u001b[0mScanning /content/toyota-model-labelling/data/4runner_split/train... 0 images, 199 backgrounds, 0 corrupt:  26%|██▋       | 199/756 [00:00<00:01, 421.20it/s]\r\u001b[34m\u001b[1mtrain: \u001b[0mScanning /content/toyota-model-labelling/data/4runner_split/train... 0 images, 248 backgrounds, 0 corrupt:  33%|███▎      | 248/756 [00:00<00:01, 444.12it/s]\r\u001b[34m\u001b[1mtrain: \u001b[0mScanning /content/toyota-model-labelling/data/4runner_split/train... 0 images, 300 backgrounds, 0 corrupt:  40%|███▉      | 300/756 [00:00<00:00, 466.48it/s]\r\u001b[34m\u001b[1mtrain: \u001b[0mScanning /content/toyota-model-labelling/data/4runner_split/train... 0 images, 352 backgrounds, 0 corrupt:  47%|████▋     | 352/756 [00:00<00:00, 482.78it/s]\r\u001b[34m\u001b[1mtrain: \u001b[0mScanning /content/toyota-model-labelling/data/4runner_split/train... 0 images, 405 backgrounds, 0 corrupt:  54%|█████▎    | 405/756 [00:00<00:00, 492.71it/s]\r\u001b[34m\u001b[1mtrain: \u001b[0mScanning /content/toyota-model-labelling/data/4runner_split/train... 0 images, 455 backgrounds, 0 corrupt:  60%|██████    | 455/756 [00:01<00:00, 486.31it/s]\r\u001b[34m\u001b[1mtrain: \u001b[0mScanning /content/toyota-model-labelling/data/4runner_split/train... 0 images, 508 backgrounds, 0 corrupt:  67%|██████▋   | 508/756 [00:01<00:00, 498.12it/s]\r\u001b[34m\u001b[1mtrain: \u001b[0mScanning /content/toyota-model-labelling/data/4runner_split/train... 0 images, 560 backgrounds, 0 corrupt:  74%|███████▍  | 560/756 [00:01<00:00, 502.75it/s]\r\u001b[34m\u001b[1mtrain: \u001b[0mScanning /content/toyota-model-labelling/data/4runner_split/train... 0 images, 613 backgrounds, 0 corrupt:  81%|████████  | 613/756 [00:01<00:00, 508.30it/s]\r\u001b[34m\u001b[1mtrain: \u001b[0mScanning /content/toyota-model-labelling/data/4runner_split/train... 0 images, 672 backgrounds, 0 corrupt:  89%|████████▉ | 672/756 [00:01<00:00, 532.46it/s]\r\u001b[34m\u001b[1mtrain: \u001b[0mScanning /content/toyota-model-labelling/data/4runner_split/train... 0 images, 740 backgrounds, 0 corrupt:  98%|█████████▊| 740/756 [00:01<00:00, 576.05it/s]\r\u001b[34m\u001b[1mtrain: \u001b[0mScanning /content/toyota-model-labelling/data/4runner_split/train... 0 images, 756 backgrounds, 0 corrupt: 100%|██████████| 756/756 [00:01<00:00, 488.37it/s]\n",
            "\u001b[34m\u001b[1mtrain: \u001b[0mWARNING ⚠️ /content/toyota-model-labelling/data/4runner_split/train/4runner-1263436474.jpg: corrupt JPEG restored and saved\n",
            "\u001b[34m\u001b[1mtrain: \u001b[0mWARNING ⚠️ /content/toyota-model-labelling/data/4runner_split/train/4runner-216546320.jpg: corrupt JPEG restored and saved\n",
            "\u001b[34m\u001b[1mtrain: \u001b[0mWARNING ⚠️ /content/toyota-model-labelling/data/4runner_split/train/4runner-32367469.jpg: corrupt JPEG restored and saved\n",
            "\u001b[34m\u001b[1mtrain: \u001b[0mWARNING ⚠️ No labels found in /content/toyota-model-labelling/data/4runner_split/train.cache. See https://docs.ultralytics.com/yolov5/tutorials/train_custom_data\n",
            "\u001b[34m\u001b[1mtrain: \u001b[0mNew cache created: /content/toyota-model-labelling/data/4runner_split/train.cache\n",
            "Traceback (most recent call last):\n",
            "  File \"/content/yolov5/train.py\", line 987, in <module>\n",
            "    main(opt)\n",
            "  File \"/content/yolov5/train.py\", line 689, in main\n",
            "    train(opt.hyp, opt, device, callbacks)\n",
            "  File \"/content/yolov5/train.py\", line 286, in train\n",
            "    train_loader, dataset = create_dataloader(\n",
            "                            ^^^^^^^^^^^^^^^^^^\n",
            "  File \"/content/yolov5/utils/dataloaders.py\", line 185, in create_dataloader\n",
            "    dataset = LoadImagesAndLabels(\n",
            "              ^^^^^^^^^^^^^^^^^^^^\n",
            "  File \"/content/yolov5/utils/dataloaders.py\", line 612, in __init__\n",
            "    assert nf > 0 or not augment, f\"{prefix}No labels found in {cache_path}, can not start training. {HELP_URL}\"\n",
            "           ^^^^^^^^^^^^^^^^^^^^^\n",
            "AssertionError: \u001b[34m\u001b[1mtrain: \u001b[0mNo labels found in /content/toyota-model-labelling/data/4runner_split/train.cache, can not start training. See https://docs.ultralytics.com/yolov5/tutorials/train_custom_data\n"
          ]
        },
        {
          "output_type": "error",
          "ename": "CalledProcessError",
          "evalue": "Command 'b'export WANDB_MODE=disabled\\ncd /content/yolov5\\n\\npython train.py \\\\\\n  --img 640 \\\\\\n  --batch 8 \\\\\\n  --epochs 50 \\\\\\n  --data /content/toyota-model-labelling/data/4runner_abs.yaml \\\\\\n  --weights yolov5s.pt \\\\\\n  --name 4runner_finetune \\\\\\n  --cache\\n'' returned non-zero exit status 1.",
          "traceback": [
            "\u001b[0;31m---------------------------------------------------------------------------\u001b[0m",
            "\u001b[0;31mCalledProcessError\u001b[0m                        Traceback (most recent call last)",
            "\u001b[0;32m<ipython-input-25-5d0acaf047ae>\u001b[0m in \u001b[0;36m<cell line: 0>\u001b[0;34m()\u001b[0m\n\u001b[0;32m----> 1\u001b[0;31m \u001b[0mget_ipython\u001b[0m\u001b[0;34m(\u001b[0m\u001b[0;34m)\u001b[0m\u001b[0;34m.\u001b[0m\u001b[0mrun_cell_magic\u001b[0m\u001b[0;34m(\u001b[0m\u001b[0;34m'bash'\u001b[0m\u001b[0;34m,\u001b[0m \u001b[0;34m''\u001b[0m\u001b[0;34m,\u001b[0m \u001b[0;34m'export WANDB_MODE=disabled\\ncd /content/yolov5\\n\\npython train.py \\\\\\n  --img 640 \\\\\\n  --batch 8 \\\\\\n  --epochs 50 \\\\\\n  --data /content/toyota-model-labelling/data/4runner_abs.yaml \\\\\\n  --weights yolov5s.pt \\\\\\n  --name 4runner_finetune \\\\\\n  --cache\\n'\u001b[0m\u001b[0;34m)\u001b[0m\u001b[0;34m\u001b[0m\u001b[0;34m\u001b[0m\u001b[0m\n\u001b[0m",
            "\u001b[0;32m/usr/local/lib/python3.11/dist-packages/google/colab/_shell.py\u001b[0m in \u001b[0;36mrun_cell_magic\u001b[0;34m(self, magic_name, line, cell)\u001b[0m\n\u001b[1;32m    356\u001b[0m     \u001b[0;32mif\u001b[0m \u001b[0mline\u001b[0m \u001b[0;32mand\u001b[0m \u001b[0;32mnot\u001b[0m \u001b[0mcell\u001b[0m\u001b[0;34m:\u001b[0m\u001b[0;34m\u001b[0m\u001b[0;34m\u001b[0m\u001b[0m\n\u001b[1;32m    357\u001b[0m       \u001b[0mcell\u001b[0m \u001b[0;34m=\u001b[0m \u001b[0;34m' '\u001b[0m\u001b[0;34m\u001b[0m\u001b[0;34m\u001b[0m\u001b[0m\n\u001b[0;32m--> 358\u001b[0;31m     \u001b[0;32mreturn\u001b[0m \u001b[0msuper\u001b[0m\u001b[0;34m(\u001b[0m\u001b[0;34m)\u001b[0m\u001b[0;34m.\u001b[0m\u001b[0mrun_cell_magic\u001b[0m\u001b[0;34m(\u001b[0m\u001b[0mmagic_name\u001b[0m\u001b[0;34m,\u001b[0m \u001b[0mline\u001b[0m\u001b[0;34m,\u001b[0m \u001b[0mcell\u001b[0m\u001b[0;34m)\u001b[0m\u001b[0;34m\u001b[0m\u001b[0;34m\u001b[0m\u001b[0m\n\u001b[0m\u001b[1;32m    359\u001b[0m \u001b[0;34m\u001b[0m\u001b[0m\n\u001b[1;32m    360\u001b[0m \u001b[0;34m\u001b[0m\u001b[0m\n",
            "\u001b[0;32m/usr/local/lib/python3.11/dist-packages/IPython/core/interactiveshell.py\u001b[0m in \u001b[0;36mrun_cell_magic\u001b[0;34m(self, magic_name, line, cell)\u001b[0m\n\u001b[1;32m   2471\u001b[0m             \u001b[0;32mwith\u001b[0m \u001b[0mself\u001b[0m\u001b[0;34m.\u001b[0m\u001b[0mbuiltin_trap\u001b[0m\u001b[0;34m:\u001b[0m\u001b[0;34m\u001b[0m\u001b[0;34m\u001b[0m\u001b[0m\n\u001b[1;32m   2472\u001b[0m                 \u001b[0margs\u001b[0m \u001b[0;34m=\u001b[0m \u001b[0;34m(\u001b[0m\u001b[0mmagic_arg_s\u001b[0m\u001b[0;34m,\u001b[0m \u001b[0mcell\u001b[0m\u001b[0;34m)\u001b[0m\u001b[0;34m\u001b[0m\u001b[0;34m\u001b[0m\u001b[0m\n\u001b[0;32m-> 2473\u001b[0;31m                 \u001b[0mresult\u001b[0m \u001b[0;34m=\u001b[0m \u001b[0mfn\u001b[0m\u001b[0;34m(\u001b[0m\u001b[0;34m*\u001b[0m\u001b[0margs\u001b[0m\u001b[0;34m,\u001b[0m \u001b[0;34m**\u001b[0m\u001b[0mkwargs\u001b[0m\u001b[0;34m)\u001b[0m\u001b[0;34m\u001b[0m\u001b[0;34m\u001b[0m\u001b[0m\n\u001b[0m\u001b[1;32m   2474\u001b[0m             \u001b[0;32mreturn\u001b[0m \u001b[0mresult\u001b[0m\u001b[0;34m\u001b[0m\u001b[0;34m\u001b[0m\u001b[0m\n\u001b[1;32m   2475\u001b[0m \u001b[0;34m\u001b[0m\u001b[0m\n",
            "\u001b[0;32m/usr/local/lib/python3.11/dist-packages/IPython/core/magics/script.py\u001b[0m in \u001b[0;36mnamed_script_magic\u001b[0;34m(line, cell)\u001b[0m\n\u001b[1;32m    140\u001b[0m             \u001b[0;32melse\u001b[0m\u001b[0;34m:\u001b[0m\u001b[0;34m\u001b[0m\u001b[0;34m\u001b[0m\u001b[0m\n\u001b[1;32m    141\u001b[0m                 \u001b[0mline\u001b[0m \u001b[0;34m=\u001b[0m \u001b[0mscript\u001b[0m\u001b[0;34m\u001b[0m\u001b[0;34m\u001b[0m\u001b[0m\n\u001b[0;32m--> 142\u001b[0;31m             \u001b[0;32mreturn\u001b[0m \u001b[0mself\u001b[0m\u001b[0;34m.\u001b[0m\u001b[0mshebang\u001b[0m\u001b[0;34m(\u001b[0m\u001b[0mline\u001b[0m\u001b[0;34m,\u001b[0m \u001b[0mcell\u001b[0m\u001b[0;34m)\u001b[0m\u001b[0;34m\u001b[0m\u001b[0;34m\u001b[0m\u001b[0m\n\u001b[0m\u001b[1;32m    143\u001b[0m \u001b[0;34m\u001b[0m\u001b[0m\n\u001b[1;32m    144\u001b[0m         \u001b[0;31m# write a basic docstring:\u001b[0m\u001b[0;34m\u001b[0m\u001b[0;34m\u001b[0m\u001b[0m\n",
            "\u001b[0;32m<decorator-gen-103>\u001b[0m in \u001b[0;36mshebang\u001b[0;34m(self, line, cell)\u001b[0m\n",
            "\u001b[0;32m/usr/local/lib/python3.11/dist-packages/IPython/core/magic.py\u001b[0m in \u001b[0;36m<lambda>\u001b[0;34m(f, *a, **k)\u001b[0m\n\u001b[1;32m    185\u001b[0m     \u001b[0;31m# but it's overkill for just that one bit of state.\u001b[0m\u001b[0;34m\u001b[0m\u001b[0;34m\u001b[0m\u001b[0m\n\u001b[1;32m    186\u001b[0m     \u001b[0;32mdef\u001b[0m \u001b[0mmagic_deco\u001b[0m\u001b[0;34m(\u001b[0m\u001b[0marg\u001b[0m\u001b[0;34m)\u001b[0m\u001b[0;34m:\u001b[0m\u001b[0;34m\u001b[0m\u001b[0;34m\u001b[0m\u001b[0m\n\u001b[0;32m--> 187\u001b[0;31m         \u001b[0mcall\u001b[0m \u001b[0;34m=\u001b[0m \u001b[0;32mlambda\u001b[0m \u001b[0mf\u001b[0m\u001b[0;34m,\u001b[0m \u001b[0;34m*\u001b[0m\u001b[0ma\u001b[0m\u001b[0;34m,\u001b[0m \u001b[0;34m**\u001b[0m\u001b[0mk\u001b[0m\u001b[0;34m:\u001b[0m \u001b[0mf\u001b[0m\u001b[0;34m(\u001b[0m\u001b[0;34m*\u001b[0m\u001b[0ma\u001b[0m\u001b[0;34m,\u001b[0m \u001b[0;34m**\u001b[0m\u001b[0mk\u001b[0m\u001b[0;34m)\u001b[0m\u001b[0;34m\u001b[0m\u001b[0;34m\u001b[0m\u001b[0m\n\u001b[0m\u001b[1;32m    188\u001b[0m \u001b[0;34m\u001b[0m\u001b[0m\n\u001b[1;32m    189\u001b[0m         \u001b[0;32mif\u001b[0m \u001b[0mcallable\u001b[0m\u001b[0;34m(\u001b[0m\u001b[0marg\u001b[0m\u001b[0;34m)\u001b[0m\u001b[0;34m:\u001b[0m\u001b[0;34m\u001b[0m\u001b[0;34m\u001b[0m\u001b[0m\n",
            "\u001b[0;32m/usr/local/lib/python3.11/dist-packages/IPython/core/magics/script.py\u001b[0m in \u001b[0;36mshebang\u001b[0;34m(self, line, cell)\u001b[0m\n\u001b[1;32m    243\u001b[0m             \u001b[0msys\u001b[0m\u001b[0;34m.\u001b[0m\u001b[0mstderr\u001b[0m\u001b[0;34m.\u001b[0m\u001b[0mflush\u001b[0m\u001b[0;34m(\u001b[0m\u001b[0;34m)\u001b[0m\u001b[0;34m\u001b[0m\u001b[0;34m\u001b[0m\u001b[0m\n\u001b[1;32m    244\u001b[0m         \u001b[0;32mif\u001b[0m \u001b[0margs\u001b[0m\u001b[0;34m.\u001b[0m\u001b[0mraise_error\u001b[0m \u001b[0;32mand\u001b[0m \u001b[0mp\u001b[0m\u001b[0;34m.\u001b[0m\u001b[0mreturncode\u001b[0m\u001b[0;34m!=\u001b[0m\u001b[0;36m0\u001b[0m\u001b[0;34m:\u001b[0m\u001b[0;34m\u001b[0m\u001b[0;34m\u001b[0m\u001b[0m\n\u001b[0;32m--> 245\u001b[0;31m             \u001b[0;32mraise\u001b[0m \u001b[0mCalledProcessError\u001b[0m\u001b[0;34m(\u001b[0m\u001b[0mp\u001b[0m\u001b[0;34m.\u001b[0m\u001b[0mreturncode\u001b[0m\u001b[0;34m,\u001b[0m \u001b[0mcell\u001b[0m\u001b[0;34m,\u001b[0m \u001b[0moutput\u001b[0m\u001b[0;34m=\u001b[0m\u001b[0mout\u001b[0m\u001b[0;34m,\u001b[0m \u001b[0mstderr\u001b[0m\u001b[0;34m=\u001b[0m\u001b[0merr\u001b[0m\u001b[0;34m)\u001b[0m\u001b[0;34m\u001b[0m\u001b[0;34m\u001b[0m\u001b[0m\n\u001b[0m\u001b[1;32m    246\u001b[0m \u001b[0;34m\u001b[0m\u001b[0m\n\u001b[1;32m    247\u001b[0m     \u001b[0;32mdef\u001b[0m \u001b[0m_run_script\u001b[0m\u001b[0;34m(\u001b[0m\u001b[0mself\u001b[0m\u001b[0;34m,\u001b[0m \u001b[0mp\u001b[0m\u001b[0;34m,\u001b[0m \u001b[0mcell\u001b[0m\u001b[0;34m,\u001b[0m \u001b[0mto_close\u001b[0m\u001b[0;34m)\u001b[0m\u001b[0;34m:\u001b[0m\u001b[0;34m\u001b[0m\u001b[0;34m\u001b[0m\u001b[0m\n",
            "\u001b[0;31mCalledProcessError\u001b[0m: Command 'b'export WANDB_MODE=disabled\\ncd /content/yolov5\\n\\npython train.py \\\\\\n  --img 640 \\\\\\n  --batch 8 \\\\\\n  --epochs 50 \\\\\\n  --data /content/toyota-model-labelling/data/4runner_abs.yaml \\\\\\n  --weights yolov5s.pt \\\\\\n  --name 4runner_finetune \\\\\\n  --cache\\n'' returned non-zero exit status 1."
          ]
        }
      ]
    }
  ]
}